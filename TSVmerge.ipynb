{
 "cells": [
  {
   "cell_type": "code",
   "execution_count": 2,
   "id": "f16fb930",
   "metadata": {},
   "outputs": [],
   "source": [
    "import numpy as np\n",
    "import pandas as pd\n",
    "import glob\n",
    "import os\n",
    "from pandas import Series, DataFrame"
   ]
  },
  {
   "cell_type": "code",
   "execution_count": 4,
   "id": "29ffeba0",
   "metadata": {},
   "outputs": [],
   "source": [
    "# initialize an empty DataFrame with 'gene_id' column\n",
    "output_df = pd.DataFrame(columns=['gene_id'])\n",
    "\n",
    "# iterate through each TSV file\n",
    "for one_filename in glob.glob('F:/Uni Y3/tesi/tsvfiles/*.tsv'):\n",
    "    # extract and concatenate the filename\n",
    "    filename_without_extension = os.path.splitext(os.path.basename(one_filename))[0]\n",
    "    filename_with_extension = filename_without_extension + '.tsv'\n",
    "\n",
    "    # read 'gene_id' and 'fpkm_uq_unstranded' columns\n",
    "    tsv = pd.read_csv(one_filename, sep='\\t', usecols=['gene_id', 'fpkm_uq_unstranded'], skiprows=1)\n",
    "    # rename 'fpkm_uq_unstranded' column to TSV file name\n",
    "    tsv.rename(columns={'fpkm_uq_unstranded': filename_with_extension}, inplace=True)\n",
    "    # merge the current new column to dataframe\n",
    "    output_df = pd.merge(output_df, tsv, on='gene_id', how='outer')\n",
    "\n",
    "# save final dataframe to csv file\n",
    "output_df.to_csv('F:/Uni Y3/tesi/final_product.csv', index=False)"
   ]
  },
  {
   "cell_type": "code",
   "execution_count": null,
   "id": "99259565",
   "metadata": {},
   "outputs": [],
   "source": [
    "\n"
   ]
  }
 ],
 "metadata": {
  "kernelspec": {
   "display_name": "Python 3 (ipykernel)",
   "language": "python",
   "name": "python3"
  },
  "language_info": {
   "codemirror_mode": {
    "name": "ipython",
    "version": 3
   },
   "file_extension": ".py",
   "mimetype": "text/x-python",
   "name": "python",
   "nbconvert_exporter": "python",
   "pygments_lexer": "ipython3",
   "version": "3.11.5"
  }
 },
 "nbformat": 4,
 "nbformat_minor": 5
}
