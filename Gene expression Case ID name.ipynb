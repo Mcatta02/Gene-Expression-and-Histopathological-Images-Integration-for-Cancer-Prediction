{
 "cells": [
  {
   "cell_type": "code",
   "execution_count": 4,
   "id": "e779e677",
   "metadata": {},
   "outputs": [],
   "source": [
    "import pandas as pd\n",
    "final_product_df = pd.read_excel(\"F:/Uni Y3/tesi/final_product.xlsx\")\n",
    "tsvconnector_df = pd.read_excel(\"F:/Uni Y3/tesi/tsvsvsconnector.xlsx\")"
   ]
  },
  {
   "cell_type": "code",
   "execution_count": 7,
   "id": "843bdcc8",
   "metadata": {},
   "outputs": [],
   "source": [
    "# get unique file names from the first row\n",
    "unique_file_names = final_product_df.columns.tolist()\n",
    "\n",
    "# create a dictionary mapping file name to corresponding Case ID then replace and save\n",
    "file_name_to_case_id = dict(zip(tsvconnector_df[\"File Name\"], tsvconnector_df[\"Case ID\"]))\n",
    "final_product_df.columns = [file_name_to_case_id.get(file_name, file_name) for file_name in unique_file_names]\n",
    "final_product_df.to_excel(\"F:/Uni Y3/tesi/updated_final_product.xlsx\", index=False)"
   ]
  },
  {
   "cell_type": "code",
   "execution_count": null,
   "id": "e0ad93c3",
   "metadata": {},
   "outputs": [],
   "source": []
  }
 ],
 "metadata": {
  "kernelspec": {
   "display_name": "Python 3 (ipykernel)",
   "language": "python",
   "name": "python3"
  },
  "language_info": {
   "codemirror_mode": {
    "name": "ipython",
    "version": 3
   },
   "file_extension": ".py",
   "mimetype": "text/x-python",
   "name": "python",
   "nbconvert_exporter": "python",
   "pygments_lexer": "ipython3",
   "version": "3.11.5"
  }
 },
 "nbformat": 4,
 "nbformat_minor": 5
}
