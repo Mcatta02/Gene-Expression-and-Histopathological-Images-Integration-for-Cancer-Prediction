{
 "cells": [
  {
   "cell_type": "code",
   "execution_count": 4,
   "id": "9b0a75a5",
   "metadata": {},
   "outputs": [],
   "source": [
    "import pandas as pd\n",
    "with open('E:/gdcclient/83adf1eb-5a8f-4c01-869b-b726d64b6698/annotations.txt', 'r') as file:\n",
    "    # read all lines\n",
    "    lines = file.readlines()\n",
    "\n",
    "rows = []\n",
    "\n",
    "for line in lines:\n",
    "    # split line by spaces then append as row\n",
    "    values = line.split()\n",
    "    rows.append(values)\n",
    "\n",
    "# convert to datafraame and save as csv file\n",
    "df = pd.DataFrame(rows)\n",
    "df.to_csv('E:/gdcclient/83adf1eb-5a8f-4c01-869b-b726d64b6698/annotations.csv', index=False, header=False)\n"
   ]
  },
  {
   "cell_type": "code",
   "execution_count": null,
   "id": "86359c00",
   "metadata": {},
   "outputs": [],
   "source": []
  }
 ],
 "metadata": {
  "kernelspec": {
   "display_name": "Python 3 (ipykernel)",
   "language": "python",
   "name": "python3"
  },
  "language_info": {
   "codemirror_mode": {
    "name": "ipython",
    "version": 3
   },
   "file_extension": ".py",
   "mimetype": "text/x-python",
   "name": "python",
   "nbconvert_exporter": "python",
   "pygments_lexer": "ipython3",
   "version": "3.11.5"
  }
 },
 "nbformat": 4,
 "nbformat_minor": 5
}
